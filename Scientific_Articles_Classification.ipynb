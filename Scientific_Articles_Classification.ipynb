{
  "nbformat": 4,
  "nbformat_minor": 0,
  "metadata": {
    "colab": {
      "provenance": [],
      "gpuType": "T4"
    },
    "kernelspec": {
      "name": "python3",
      "display_name": "Python 3"
    },
    "language_info": {
      "name": "python"
    },
    "accelerator": "GPU"
  },
  "cells": [
    {
      "cell_type": "markdown",
      "source": [
        "# SCIENTIFIC ARTICLES CLASSIFICATION, A DEEP LEARNING PROJECT"
      ],
      "metadata": {
        "id": "tLFUGI7ne7aQ"
      }
    },
    {
      "cell_type": "markdown",
      "source": [
        "### Libraries import"
      ],
      "metadata": {
        "id": "ptCNTe75W2SC"
      }
    },
    {
      "cell_type": "code",
      "execution_count": null,
      "metadata": {
        "id": "gyw-ALm3WnrK"
      },
      "outputs": [],
      "source": [
        "import urllib.request\n",
        "import zipfile\n",
        "import numpy as np\n",
        "import pickle as pk\n",
        "import matplotlib.pyplot as plt\n",
        "import seaborn as sns\n",
        "from sklearn.feature_extraction.text import TfidfTransformer\n",
        "from sklearn.model_selection import train_test_split\n",
        "from keras.models import Sequential\n",
        "from keras.layers import LSTM, Dense, Dropout\n",
        "from keras.optimizers import Adam\n",
        "from keras.utils import to_categorical\n",
        "from keras.callbacks import EarlyStopping\n",
        "from sklearn.metrics import confusion_matrix\n",
        "from sklearn.metrics import f1_score"
      ]
    },
    {
      "cell_type": "markdown",
      "source": [
        "## Pre Processing - Answers to **Question 2** of the exam"
      ],
      "metadata": {
        "id": "j4Oyfq5eocxO"
      }
    },
    {
      "cell_type": "markdown",
      "source": [
        "### Data Retrieval and Initialization"
      ],
      "metadata": {
        "id": "5E3ItnGDgOAU"
      }
    },
    {
      "cell_type": "markdown",
      "source": [
        "This part automates the download and extraction of the dataset from GitHub, preparing features and labels while excluding citation data as specified."
      ],
      "metadata": {
        "id": "i3GdGRIVMdPX"
      }
    },
    {
      "cell_type": "code",
      "source": [
        "# ZIP data URL from GitHub\n",
        "zip_url = \"https://github.com/LucaPonzini/Deep-Learning-Project/raw/main/data.zip\"\n",
        "\n",
        "# Download the ZIP\n",
        "zip_path, _ = urllib.request.urlretrieve(zip_url)\n",
        "\n",
        "# Unzip the folder\n",
        "target_folder = \"temp\"\n",
        "with zipfile.ZipFile(zip_path, 'r') as zip_ref:\n",
        "    zip_ref.extractall(target_folder)\n",
        "\n",
        "data_path = f\"{target_folder}/data.pkl\"\n",
        "\n",
        "# Open the pickle data\n",
        "with open(data_path, 'rb') as f:\n",
        "  data = pk.load(f)\n",
        "\n",
        "labels = data[2]\n",
        "feats = data[1]\n",
        "# edges = data[0] - AS SAID IN THE WRITTEN EXAM I WILL NOT USE THE FIELD CONTAINING THE CITATIONS OF OTHER ARTICLES"
      ],
      "metadata": {
        "id": "urFHapzbgNkh"
      },
      "execution_count": null,
      "outputs": []
    },
    {
      "cell_type": "markdown",
      "source": [
        "### Data visualization"
      ],
      "metadata": {
        "id": "XkRZrG1HkUUp"
      }
    },
    {
      "cell_type": "markdown",
      "source": [
        "Visualization of the two arrays used and the showing in a histogram the distribution of labels in the dataset.\n",
        "As we can see two classes have very similar values while the first one is much smaller"
      ],
      "metadata": {
        "id": "KrhVvIZONT7T"
      }
    },
    {
      "cell_type": "code",
      "source": [
        "labels # Visualize the \"labels\" array"
      ],
      "metadata": {
        "colab": {
          "base_uri": "https://localhost:8080/"
        },
        "id": "oR4GVpFwkZzq",
        "outputId": "4cc3b55c-46b9-4d5f-81dd-1b3b6d243df9"
      },
      "execution_count": null,
      "outputs": [
        {
          "output_type": "execute_result",
          "data": {
            "text/plain": [
              "array([1, 1, 0, ..., 2, 0, 2])"
            ]
          },
          "metadata": {},
          "execution_count": 36
        }
      ]
    },
    {
      "cell_type": "code",
      "source": [
        "feats # Visualize the \"feats\" array"
      ],
      "metadata": {
        "colab": {
          "base_uri": "https://localhost:8080/"
        },
        "id": "d5aXjEbukg6A",
        "outputId": "1dc581a8-8f09-44db-e82b-9a71046d49ee"
      },
      "execution_count": null,
      "outputs": [
        {
          "output_type": "execute_result",
          "data": {
            "text/plain": [
              "array([[0.        , 0.        , 0.        , ..., 0.        , 0.        ,\n",
              "        0.        ],\n",
              "       [0.        , 0.        , 0.        , ..., 0.        , 0.        ,\n",
              "        0.        ],\n",
              "       [0.05539719, 0.        , 0.        , ..., 0.        , 0.        ,\n",
              "        0.        ],\n",
              "       ...,\n",
              "       [0.        , 0.01141881, 0.00467923, ..., 0.        , 0.        ,\n",
              "        0.        ],\n",
              "       [0.05307647, 0.        , 0.        , ..., 0.        , 0.        ,\n",
              "        0.        ],\n",
              "       [0.        , 0.01447173, 0.        , ..., 0.        , 0.        ,\n",
              "        0.        ]], dtype=float32)"
            ]
          },
          "metadata": {},
          "execution_count": 37
        }
      ]
    },
    {
      "cell_type": "code",
      "source": [
        "# Plot histogram of labels\n",
        "plt.figure(figsize=(8, 6))\n",
        "plt.hist(labels, bins=len(set(labels)), color='skyblue', edgecolor='black')\n",
        "plt.title('Distribution of Labels')\n",
        "plt.xlabel('Labels')\n",
        "plt.ylabel('Frequency')\n",
        "plt.xticks(range(len(set(labels))))\n",
        "plt.grid(axis='y', alpha=0.5)\n",
        "plt.show()"
      ],
      "metadata": {
        "colab": {
          "base_uri": "https://localhost:8080/",
          "height": 564
        },
        "id": "dRbw0_PHn9X6",
        "outputId": "1dd5fe71-b14b-4ae1-e056-6dbf361f85a4"
      },
      "execution_count": null,
      "outputs": [
        {
          "output_type": "display_data",
          "data": {
            "text/plain": [
              "<Figure size 800x600 with 1 Axes>"
            ],
            "image/png": "[encoded data removed]"
          },
          "metadata": {}
        }
      ]
    },
    {
      "cell_type": "markdown",
      "source": [
        "### TF-IDF Feature Extraction and Less Useful Word Removal"
      ],
      "metadata": {
        "id": "s6gKiH7co43w"
      }
    },
    {
      "cell_type": "markdown",
      "source": [
        "Here I applied the TF-IDF feature extraction method in order to remove the 50 less useful words for the articles classification, the 50 words were selected among the lowest TF-IDF scores"
      ],
      "metadata": {
        "id": "VJoQlz4BRPr4"
      }
    },
    {
      "cell_type": "code",
      "source": [
        "# Compute TF-IDF features for the 500 features\n",
        "tfidf_transformer = TfidfTransformer()\n",
        "tfidf_feats = tfidf_transformer.fit_transform(feats)\n",
        "\n",
        "# Compute the mean TF-IDF score for each word across all articles\n",
        "mean_tfidf_scores = np.asarray(tfidf_feats.mean(axis=0)).flatten()\n",
        "\n",
        "# Sort the words based on their mean TF-IDF scores\n",
        "sorted_indices = np.argsort(mean_tfidf_scores)\n",
        "\n",
        "# Identify the 50 less useful words (lowest TF-IDF scores)\n",
        "less_useful_words_indices = sorted_indices[:50]\n",
        "\n",
        "# Remove the 50 less useful words from the TF-IDF features\n",
        "filtered_tfidf_feats = np.delete(tfidf_feats.toarray(), less_useful_words_indices, axis=1)\n",
        "\n",
        "# Print the shape of the matrix\n",
        "print(\"Shape of the TF-IDF matrix after removing 50 less useful words:\", filtered_tfidf_feats.shape)\n",
        "\n",
        "# Print the TF-IDF matrix\n",
        "print(\"TF-IDF matrix after removing 50 less useful words:\")\n",
        "print(filtered_tfidf_feats)"
      ],
      "metadata": {
        "colab": {
          "base_uri": "https://localhost:8080/"
        },
        "id": "jy3uaaSjo5Od",
        "outputId": "a3396fe0-af88-4170-af97-5a6adaf04d4c"
      },
      "execution_count": null,
      "outputs": [
        {
          "output_type": "stream",
          "name": "stdout",
          "text": [
            "Shape of the TF-IDF matrix after removing 50 less useful words: (19717, 450)\n",
            "TF-IDF matrix after removing 50 less useful words:\n",
            "[[0.         0.         0.         ... 0.         0.         0.        ]\n",
            " [0.         0.         0.         ... 0.         0.         0.        ]\n",
            " [0.25351717 0.         0.         ... 0.         0.         0.        ]\n",
            " ...\n",
            " [0.         0.0646982  0.01531477 ... 0.         0.         0.        ]\n",
            " [0.17034841 0.         0.         ... 0.         0.         0.        ]\n",
            " [0.         0.07968803 0.         ... 0.         0.         0.        ]]\n"
          ]
        }
      ]
    },
    {
      "cell_type": "markdown",
      "source": [
        "### Train-Validation-Test Data Splitting"
      ],
      "metadata": {
        "id": "vslmKB7Npu4C"
      }
    },
    {
      "cell_type": "markdown",
      "source": [
        "In this block of code I divided the preprocessed dataset into training, validation, and test subsets to support a structured approach in model training and evaluation.\n",
        "Initially, it segregates 70% of the data for training and reserves 30% for testing and validation. This reserved portion is further equally split to form distinct validation and test sets. Then, it prints the dimensions of each subset, providing a clear overview of the dataset distribution, which is crucial for understanding the scope of data available for each phase of model development and assessment."
      ],
      "metadata": {
        "id": "ownTU4z6R0rA"
      }
    },
    {
      "cell_type": "code",
      "source": [
        "# Perform train-test split\n",
        "X_train, X_temp, y_train, y_temp = train_test_split(filtered_tfidf_feats, labels, test_size=0.3, random_state=42)\n",
        "\n",
        "# Further split the temp set into validation and test sets\n",
        "X_val, X_test, y_val, y_test = train_test_split(X_temp, y_temp, test_size=0.5, random_state=42)\n",
        "\n",
        "# Print the sizes of train, validation, and test sets\n",
        "print(\"Train set size:\", X_train.shape)\n",
        "print(\"Validation set size:\", X_val.shape)\n",
        "print(\"Test set size:\", X_test.shape)"
      ],
      "metadata": {
        "colab": {
          "base_uri": "https://localhost:8080/"
        },
        "id": "4FhcaklEpvVK",
        "outputId": "ff2f22f8-5203-48fe-8e42-ee304403eed5"
      },
      "execution_count": null,
      "outputs": [
        {
          "output_type": "stream",
          "name": "stdout",
          "text": [
            "Train set size: (13801, 450)\n",
            "Validation set size: (2958, 450)\n",
            "Test set size: (2958, 450)\n"
          ]
        }
      ]
    },
    {
      "cell_type": "markdown",
      "source": [
        "## Hyperparameters selection and Model configuration - Answer to **Question 5** of the written exam"
      ],
      "metadata": {
        "id": "566DuUo2ryVv"
      }
    },
    {
      "cell_type": "markdown",
      "source": [
        "### Data Reshaping and Encoding for Model Input"
      ],
      "metadata": {
        "id": "E11Yk_4bt1gu"
      }
    },
    {
      "cell_type": "markdown",
      "source": [
        "These lines of code prepare the dataset for input into the neural network model. They reshape the training and validation feature sets to have an additional dimension, making them compatible with LSTM layers in Keras that expect a 3D array input.\n",
        "While the last two lines convert integer class labels into one-hot encoded vectors for both the training and validation sets."
      ],
      "metadata": {
        "id": "2H5YOy3HSXOF"
      }
    },
    {
      "cell_type": "code",
      "source": [
        "# Reshape and one-hot encode the data appropriately\n",
        "X_train_reshaped = X_train.reshape((X_train.shape[0], X_train.shape[1], 1))\n",
        "X_val_reshaped = X_val.reshape((X_val.shape[0], X_val.shape[1], 1))\n",
        "y_train_encoded = to_categorical(y_train, num_classes=3)\n",
        "y_val_encoded = to_categorical(y_val, num_classes=3)"
      ],
      "metadata": {
        "id": "HqO0w2Glsoco"
      },
      "execution_count": null,
      "outputs": []
    },
    {
      "cell_type": "markdown",
      "source": [
        "### Grid Search for Hyperparameter Configurations"
      ],
      "metadata": {
        "id": "jWpvf6APvYdR"
      }
    },
    {
      "cell_type": "markdown",
      "source": [
        "This code defines an expanded grid of hyperparameters for tuning the model. This setup allows for experimentation with different batch sizes and learning rates to optimize model training, while maintaining a consistent number of training cycles and a single level of regularization through dropout."
      ],
      "metadata": {
        "id": "TdNdMvsiSpP9"
      }
    },
    {
      "cell_type": "code",
      "source": [
        "# Expanded Hyperparameter Grid\n",
        "param_grid = {\n",
        "    'batch_size': [32, 64, 128],\n",
        "    'epochs': [10],\n",
        "    'learning_rate': [0.01, 0.001, 0.0001],\n",
        "    'dropout_rate': [0.2]\n",
        "}"
      ],
      "metadata": {
        "id": "7swLoonUvazU"
      },
      "execution_count": null,
      "outputs": []
    },
    {
      "cell_type": "markdown",
      "source": [
        "### Initialization of Best Score and Parameters"
      ],
      "metadata": {
        "id": "y1reGF0Cvpfi"
      }
    },
    {
      "cell_type": "markdown",
      "source": [
        "\n",
        "Here I initialize `best_score` to track the highest performance metric and `best_params` to store the hyperparameters achieving that score during the tuning process, setting the stage for identifying the optimal model configuration."
      ],
      "metadata": {
        "id": "yt31EgeKTA1t"
      }
    },
    {
      "cell_type": "code",
      "source": [
        "best_score = 0\n",
        "best_params = {}"
      ],
      "metadata": {
        "id": "VfxzAPhVvp2D"
      },
      "execution_count": null,
      "outputs": []
    },
    {
      "cell_type": "markdown",
      "source": [
        "### Iterative Hyperparameter Search for Model Training"
      ],
      "metadata": {
        "id": "1Iqb6au_v17f"
      }
    },
    {
      "cell_type": "markdown",
      "source": [
        "This code conducts a grid search to fine-tune a neural network model, iterating over predefined hyperparameters. It builds and trains models for each parameter combination, applying early stopping for efficiency. The highest validation accuracy is tracked, updating `best_score` and `best_params` to reflect the optimal configuration found during the search."
      ],
      "metadata": {
        "id": "DR5HsWODTnV-"
      }
    },
    {
      "cell_type": "code",
      "source": [
        "# Grid Search Training\n",
        "for batch_size in param_grid['batch_size']:\n",
        "    for epochs in param_grid['epochs']:\n",
        "        for learning_rate in param_grid['learning_rate']:\n",
        "            for dropout_rate in param_grid['dropout_rate']:\n",
        "                print(f\"\\nTraining with batch_size={batch_size}, epochs={epochs}, learning_rate={learning_rate}, dropout_rate={dropout_rate}\")\n",
        "\n",
        "                # Model definition\n",
        "                model = Sequential([\n",
        "                    LSTM(100, kernel_initializer='he_uniform', input_shape=(450, 1)),\n",
        "                    Dropout(dropout_rate),\n",
        "                    Dense(3, activation='softmax')\n",
        "                ])\n",
        "\n",
        "                optimizer = Adam(learning_rate=learning_rate)\n",
        "                model.compile(optimizer=optimizer, loss='categorical_crossentropy', metrics=['accuracy'])\n",
        "\n",
        "                # Early stopping\n",
        "                early_stopping = EarlyStopping(monitor='val_loss', patience=2, restore_best_weights=True)\n",
        "\n",
        "                # Model fitting\n",
        "                history = model.fit(X_train_reshaped, y_train_encoded, epochs=epochs, batch_size=batch_size,\n",
        "                                    validation_data=(X_val_reshaped, y_val_encoded), verbose=1, callbacks=[early_stopping])\n",
        "\n",
        "                val_accuracy = max(history.history['val_accuracy'])  # Get the best validation accuracy\n",
        "\n",
        "                if val_accuracy > best_score:\n",
        "                    best_score = val_accuracy\n",
        "                    best_params = {\n",
        "                        'batch_size': batch_size,\n",
        "                        'epochs': epochs,\n",
        "                        'learning_rate': learning_rate,\n",
        "                        'dropout_rate': dropout_rate\n",
        "                    }"
      ],
      "metadata": {
        "colab": {
          "base_uri": "https://localhost:8080/"
        },
        "id": "zry0sYvuv2Ss",
        "outputId": "e074f839-520f-4d8e-a56d-a420441f9ecb"
      },
      "execution_count": null,
      "outputs": [
        {
          "output_type": "stream",
          "name": "stdout",
          "text": [
            "\n",
            "Training with batch_size=32, epochs=10, learning_rate=0.01, dropout_rate=0.2\n",
            "Epoch 1/10\n",
            "432/432 [==============================] - 11s 21ms/step - loss: 1.0547 - accuracy: 0.4350 - val_loss: 1.0680 - val_accuracy: 0.3982\n",
            "Epoch 2/10\n",
            "432/432 [==============================] - 7s 17ms/step - loss: 1.0184 - accuracy: 0.4298 - val_loss: 0.8487 - val_accuracy: 0.5483\n",
            "Epoch 3/10\n",
            "432/432 [==============================] - 8s 18ms/step - loss: 0.8730 - accuracy: 0.5253 - val_loss: 0.8363 - val_accuracy: 0.5382\n",
            "Epoch 4/10\n",
            "432/432 [==============================] - 8s 19ms/step - loss: 0.8869 - accuracy: 0.5172 - val_loss: 0.8460 - val_accuracy: 0.5416\n",
            "Epoch 5/10\n",
            "432/432 [==============================] - 8s 17ms/step - loss: 0.8548 - accuracy: 0.5496 - val_loss: 0.8208 - val_accuracy: 0.6055\n",
            "Epoch 6/10\n",
            "432/432 [==============================] - 8s 19ms/step - loss: 0.8381 - accuracy: 0.5867 - val_loss: 0.7903 - val_accuracy: 0.6349\n",
            "Epoch 7/10\n",
            "432/432 [==============================] - 7s 17ms/step - loss: 0.8177 - accuracy: 0.6218 - val_loss: 0.7811 - val_accuracy: 0.6494\n",
            "Epoch 8/10\n",
            "432/432 [==============================] - 8s 18ms/step - loss: 0.8117 - accuracy: 0.6232 - val_loss: 0.8604 - val_accuracy: 0.5352\n",
            "Epoch 9/10\n",
            "432/432 [==============================] - 8s 19ms/step - loss: 0.8565 - accuracy: 0.5410 - val_loss: 0.8409 - val_accuracy: 0.5402\n",
            "\n",
            "Training with batch_size=32, epochs=10, learning_rate=0.001, dropout_rate=0.2\n",
            "Epoch 1/10\n",
            "432/432 [==============================] - 11s 22ms/step - loss: 1.0236 - accuracy: 0.4905 - val_loss: 1.0034 - val_accuracy: 0.5061\n",
            "Epoch 2/10\n",
            "432/432 [==============================] - 7s 17ms/step - loss: 1.0028 - accuracy: 0.5077 - val_loss: 0.9925 - val_accuracy: 0.5162\n",
            "Epoch 3/10\n",
            "432/432 [==============================] - 8s 18ms/step - loss: 0.9819 - accuracy: 0.5259 - val_loss: 0.9408 - val_accuracy: 0.5473\n",
            "Epoch 4/10\n",
            "432/432 [==============================] - 8s 20ms/step - loss: 0.9563 - accuracy: 0.5412 - val_loss: 0.9561 - val_accuracy: 0.5412\n",
            "Epoch 5/10\n",
            "432/432 [==============================] - 7s 17ms/step - loss: 0.9436 - accuracy: 0.5484 - val_loss: 0.9625 - val_accuracy: 0.5311\n",
            "\n",
            "Training with batch_size=32, epochs=10, learning_rate=0.0001, dropout_rate=0.2\n",
            "Epoch 1/10\n",
            "432/432 [==============================] - 10s 20ms/step - loss: 1.0345 - accuracy: 0.4643 - val_loss: 0.9891 - val_accuracy: 0.4953\n",
            "Epoch 2/10\n",
            "432/432 [==============================] - 8s 18ms/step - loss: 0.9822 - accuracy: 0.5138 - val_loss: 0.9500 - val_accuracy: 0.5284\n",
            "Epoch 3/10\n",
            "432/432 [==============================] - 7s 17ms/step - loss: 0.9594 - accuracy: 0.5248 - val_loss: 0.9392 - val_accuracy: 0.5473\n",
            "Epoch 4/10\n",
            "432/432 [==============================] - 8s 19ms/step - loss: 0.9485 - accuracy: 0.5424 - val_loss: 0.9347 - val_accuracy: 0.5629\n",
            "Epoch 5/10\n",
            "432/432 [==============================] - 8s 19ms/step - loss: 0.9493 - accuracy: 0.5461 - val_loss: 0.9439 - val_accuracy: 0.5419\n",
            "Epoch 6/10\n",
            "432/432 [==============================] - 8s 18ms/step - loss: 0.9381 - accuracy: 0.5510 - val_loss: 0.9467 - val_accuracy: 0.5514\n",
            "\n",
            "Training with batch_size=64, epochs=10, learning_rate=0.01, dropout_rate=0.2\n",
            "Epoch 1/10\n",
            "216/216 [==============================] - 7s 24ms/step - loss: 1.0750 - accuracy: 0.4207 - val_loss: 1.0862 - val_accuracy: 0.3928\n",
            "Epoch 2/10\n",
            "216/216 [==============================] - 4s 18ms/step - loss: 1.0646 - accuracy: 0.4010 - val_loss: 1.0634 - val_accuracy: 0.3976\n",
            "Epoch 3/10\n",
            "216/216 [==============================] - 4s 21ms/step - loss: 1.0599 - accuracy: 0.4055 - val_loss: 1.0727 - val_accuracy: 0.4006\n",
            "Epoch 4/10\n",
            "216/216 [==============================] - 4s 18ms/step - loss: 1.0573 - accuracy: 0.4052 - val_loss: 1.0643 - val_accuracy: 0.4145\n",
            "\n",
            "Training with batch_size=64, epochs=10, learning_rate=0.001, dropout_rate=0.2\n",
            "Epoch 1/10\n",
            "216/216 [==============================] - 6s 22ms/step - loss: 1.0191 - accuracy: 0.4931 - val_loss: 1.0521 - val_accuracy: 0.4388\n",
            "Epoch 2/10\n",
            "216/216 [==============================] - 4s 20ms/step - loss: 0.9989 - accuracy: 0.5143 - val_loss: 1.0202 - val_accuracy: 0.5027\n",
            "Epoch 3/10\n",
            "216/216 [==============================] - 4s 18ms/step - loss: 0.9929 - accuracy: 0.5152 - val_loss: 1.0013 - val_accuracy: 0.5091\n",
            "Epoch 4/10\n",
            "216/216 [==============================] - 4s 20ms/step - loss: 0.9850 - accuracy: 0.5229 - val_loss: 0.9545 - val_accuracy: 0.5429\n",
            "Epoch 5/10\n",
            "216/216 [==============================] - 4s 19ms/step - loss: 0.9511 - accuracy: 0.5424 - val_loss: 0.9285 - val_accuracy: 0.5544\n",
            "Epoch 6/10\n",
            "216/216 [==============================] - 4s 18ms/step - loss: 0.9340 - accuracy: 0.5527 - val_loss: 0.9293 - val_accuracy: 0.5625\n",
            "Epoch 7/10\n",
            "216/216 [==============================] - 4s 20ms/step - loss: 0.9252 - accuracy: 0.5579 - val_loss: 0.9264 - val_accuracy: 0.5521\n",
            "Epoch 8/10\n",
            "216/216 [==============================] - 4s 19ms/step - loss: 0.9163 - accuracy: 0.5620 - val_loss: 0.9081 - val_accuracy: 0.5632\n",
            "Epoch 9/10\n",
            "216/216 [==============================] - 4s 18ms/step - loss: 0.9135 - accuracy: 0.5653 - val_loss: 0.8958 - val_accuracy: 0.5669\n",
            "Epoch 10/10\n",
            "216/216 [==============================] - 4s 19ms/step - loss: 0.9167 - accuracy: 0.5624 - val_loss: 0.9193 - val_accuracy: 0.5554\n",
            "\n",
            "Training with batch_size=64, epochs=10, learning_rate=0.0001, dropout_rate=0.2\n",
            "Epoch 1/10\n",
            "216/216 [==============================] - 6s 20ms/step - loss: 1.0564 - accuracy: 0.4196 - val_loss: 1.0400 - val_accuracy: 0.4067\n",
            "Epoch 2/10\n",
            "216/216 [==============================] - 4s 18ms/step - loss: 1.0224 - accuracy: 0.4754 - val_loss: 0.9950 - val_accuracy: 0.5027\n",
            "Epoch 3/10\n",
            "216/216 [==============================] - 4s 21ms/step - loss: 0.9848 - accuracy: 0.5091 - val_loss: 0.9759 - val_accuracy: 0.5132\n",
            "Epoch 4/10\n",
            "216/216 [==============================] - 4s 19ms/step - loss: 0.9701 - accuracy: 0.5215 - val_loss: 0.9985 - val_accuracy: 0.5186\n",
            "Epoch 5/10\n",
            "216/216 [==============================] - 4s 19ms/step - loss: 0.9570 - accuracy: 0.5307 - val_loss: 0.9423 - val_accuracy: 0.5548\n",
            "Epoch 6/10\n",
            "216/216 [==============================] - 4s 20ms/step - loss: 0.9446 - accuracy: 0.5524 - val_loss: 0.9413 - val_accuracy: 0.5521\n",
            "Epoch 7/10\n",
            "216/216 [==============================] - 4s 18ms/step - loss: 0.9451 - accuracy: 0.5516 - val_loss: 0.9300 - val_accuracy: 0.5669\n",
            "Epoch 8/10\n",
            "216/216 [==============================] - 4s 18ms/step - loss: 0.9360 - accuracy: 0.5533 - val_loss: 0.9367 - val_accuracy: 0.5565\n",
            "Epoch 9/10\n",
            "216/216 [==============================] - 4s 20ms/step - loss: 0.9344 - accuracy: 0.5563 - val_loss: 0.9249 - val_accuracy: 0.5663\n",
            "Epoch 10/10\n",
            "216/216 [==============================] - 4s 18ms/step - loss: 0.9358 - accuracy: 0.5537 - val_loss: 0.9219 - val_accuracy: 0.5669\n",
            "\n",
            "Training with batch_size=128, epochs=10, learning_rate=0.01, dropout_rate=0.2\n",
            "Epoch 1/10\n",
            "108/108 [==============================] - 5s 33ms/step - loss: 1.0692 - accuracy: 0.4361 - val_loss: 1.0703 - val_accuracy: 0.3911\n",
            "Epoch 2/10\n",
            "108/108 [==============================] - 3s 24ms/step - loss: 1.0644 - accuracy: 0.4007 - val_loss: 1.0684 - val_accuracy: 0.3895\n",
            "Epoch 3/10\n",
            "108/108 [==============================] - 3s 24ms/step - loss: 1.0600 - accuracy: 0.4106 - val_loss: 1.0708 - val_accuracy: 0.3986\n",
            "Epoch 4/10\n",
            "108/108 [==============================] - 3s 24ms/step - loss: 1.0596 - accuracy: 0.4013 - val_loss: 1.0647 - val_accuracy: 0.3898\n",
            "Epoch 5/10\n",
            "108/108 [==============================] - 3s 25ms/step - loss: 1.0589 - accuracy: 0.4066 - val_loss: 1.0709 - val_accuracy: 0.3986\n",
            "Epoch 6/10\n",
            "108/108 [==============================] - 3s 26ms/step - loss: 1.0587 - accuracy: 0.4065 - val_loss: 1.0653 - val_accuracy: 0.3976\n",
            "\n",
            "Training with batch_size=128, epochs=10, learning_rate=0.001, dropout_rate=0.2\n",
            "Epoch 1/10\n",
            "108/108 [==============================] - 6s 36ms/step - loss: 1.0413 - accuracy: 0.4674 - val_loss: 1.0105 - val_accuracy: 0.5044\n",
            "Epoch 2/10\n",
            "108/108 [==============================] - 3s 26ms/step - loss: 1.0001 - accuracy: 0.5110 - val_loss: 1.0039 - val_accuracy: 0.5030\n",
            "Epoch 3/10\n",
            "108/108 [==============================] - 3s 24ms/step - loss: 0.9908 - accuracy: 0.5173 - val_loss: 0.9888 - val_accuracy: 0.5179\n",
            "Epoch 4/10\n",
            "108/108 [==============================] - 3s 24ms/step - loss: 0.9905 - accuracy: 0.5158 - val_loss: 0.9901 - val_accuracy: 0.5145\n",
            "Epoch 5/10\n",
            "108/108 [==============================] - 3s 24ms/step - loss: 0.9807 - accuracy: 0.5153 - val_loss: 0.9811 - val_accuracy: 0.5135\n",
            "Epoch 6/10\n",
            "108/108 [==============================] - 3s 26ms/step - loss: 0.9768 - accuracy: 0.5205 - val_loss: 0.9691 - val_accuracy: 0.5128\n",
            "Epoch 7/10\n",
            "108/108 [==============================] - 3s 25ms/step - loss: 0.9641 - accuracy: 0.5229 - val_loss: 0.9591 - val_accuracy: 0.5139\n",
            "Epoch 8/10\n",
            "108/108 [==============================] - 3s 24ms/step - loss: 0.9560 - accuracy: 0.5301 - val_loss: 0.9502 - val_accuracy: 0.5304\n",
            "Epoch 9/10\n",
            "108/108 [==============================] - 3s 25ms/step - loss: 0.9361 - accuracy: 0.5449 - val_loss: 0.9328 - val_accuracy: 0.5473\n",
            "Epoch 10/10\n",
            "108/108 [==============================] - 3s 25ms/step - loss: 0.9375 - accuracy: 0.5513 - val_loss: 0.9192 - val_accuracy: 0.5538\n",
            "\n",
            "Training with batch_size=128, epochs=10, learning_rate=0.0001, dropout_rate=0.2\n",
            "Epoch 1/10\n",
            "108/108 [==============================] - 5s 29ms/step - loss: 1.0774 - accuracy: 0.4245 - val_loss: 1.0447 - val_accuracy: 0.3989\n",
            "Epoch 2/10\n",
            "108/108 [==============================] - 3s 25ms/step - loss: 1.0236 - accuracy: 0.4776 - val_loss: 1.0042 - val_accuracy: 0.5047\n",
            "Epoch 3/10\n",
            "108/108 [==============================] - 3s 25ms/step - loss: 0.9864 - accuracy: 0.5113 - val_loss: 0.9718 - val_accuracy: 0.5115\n",
            "Epoch 4/10\n",
            "108/108 [==============================] - 3s 25ms/step - loss: 0.9728 - accuracy: 0.5224 - val_loss: 0.9494 - val_accuracy: 0.5264\n",
            "Epoch 5/10\n",
            "108/108 [==============================] - 3s 25ms/step - loss: 0.9532 - accuracy: 0.5304 - val_loss: 0.9563 - val_accuracy: 0.5355\n",
            "Epoch 6/10\n",
            "108/108 [==============================] - 3s 24ms/step - loss: 0.9557 - accuracy: 0.5283 - val_loss: 0.9485 - val_accuracy: 0.5338\n",
            "Epoch 7/10\n",
            "108/108 [==============================] - 3s 25ms/step - loss: 0.9452 - accuracy: 0.5326 - val_loss: 0.9383 - val_accuracy: 0.5362\n",
            "Epoch 8/10\n",
            "108/108 [==============================] - 3s 26ms/step - loss: 0.9514 - accuracy: 0.5357 - val_loss: 0.9437 - val_accuracy: 0.5548\n",
            "Epoch 9/10\n",
            "108/108 [==============================] - 3s 24ms/step - loss: 0.9445 - accuracy: 0.5459 - val_loss: 0.9413 - val_accuracy: 0.5436\n"
          ]
        }
      ]
    },
    {
      "cell_type": "markdown",
      "source": [
        "### Final Results printout: Best Validation Accuracy and Corresponding Hyperparameters"
      ],
      "metadata": {
        "id": "N3TXYkCewdQh"
      }
    },
    {
      "cell_type": "markdown",
      "source": [
        "Here it outputs the highest validation accuracy achieved during the grid search and the set of hyperparameters that led to this performance. It marks the conclusion of the hyperparameter tuning process, providing a clear summary of the optimal model configuration for reference or further analysis."
      ],
      "metadata": {
        "id": "-ZWAJlxxUMS-"
      }
    },
    {
      "cell_type": "code",
      "source": [
        "# Final Printout\n",
        "print(\"\\nBest Validation Accuracy:\", best_score)\n",
        "print(\"Best Hyperparameters:\", best_params)"
      ],
      "metadata": {
        "id": "elUn4dFfw2Ew",
        "colab": {
          "base_uri": "https://localhost:8080/"
        },
        "outputId": "ad1c5b9c-b8a6-4289-9207-e180a7a5490b"
      },
      "execution_count": null,
      "outputs": [
        {
          "output_type": "stream",
          "name": "stdout",
          "text": [
            "\n",
            "Best Validation Accuracy: 0.6494252681732178\n",
            "Best Hyperparameters: {'batch_size': 32, 'epochs': 10, 'learning_rate': 0.01, 'dropout_rate': 0.2}\n"
          ]
        }
      ]
    },
    {
      "cell_type": "markdown",
      "source": [
        "## Model Construction with Optimized Hyperparameters"
      ],
      "metadata": {
        "id": "3vIpwCg7xKRC"
      }
    },
    {
      "cell_type": "markdown",
      "source": [
        "In this section there are the answers to **Question 1** (model=LSTM), **Question 3** (output=dense softmax layer), **Question 4** (loss function=categorical cross entropy)"
      ],
      "metadata": {
        "id": "rFK_ZRBD-DfZ"
      }
    },
    {
      "cell_type": "markdown",
      "source": [
        "### Setting LSTM Units for Potential Optimization"
      ],
      "metadata": {
        "id": "78gNuLArxCvi"
      }
    },
    {
      "cell_type": "code",
      "source": [
        "# Optimizing LSTM units based on prior knowledge/experimentation\n",
        "lstm_units = 150  # Adjusted to 150 units for potential optimization"
      ],
      "metadata": {
        "id": "yXBv1kZNxshO"
      },
      "execution_count": null,
      "outputs": []
    },
    {
      "cell_type": "markdown",
      "source": [
        "### Model Architecture Definition"
      ],
      "metadata": {
        "id": "0ET4bx2CyyjJ"
      }
    },
    {
      "cell_type": "markdown",
      "source": [
        "### Model with Optimized Hyperparameters"
      ],
      "metadata": {
        "id": "6-3tE04U33Oa"
      }
    },
    {
      "cell_type": "markdown",
      "source": [
        "This code constructs and compiles an LSTM model using the best hyperparameters identified from the grid search, including the optimal dropout rate and learning rate. It sets up the model with a specific LSTM unit count, dropout for regularization, a softmax output layer for classification, and compiles it with the Adam optimizer to enhance performance based on the tuning results."
      ],
      "metadata": {
        "id": "j19NdyswVLhP"
      }
    },
    {
      "cell_type": "code",
      "source": [
        "# Model with the dynamically set best hyperparameters\n",
        "final_model = Sequential([\n",
        "    LSTM(lstm_units, kernel_initializer='he_uniform', input_shape=(450, 1)),\n",
        "    Dropout(best_params['dropout_rate']),  # Dynamically use the best dropout rate found\n",
        "    Dense(3, activation='softmax')\n",
        "])\n",
        "\n",
        "optimizer = Adam(learning_rate=best_params['learning_rate'])  # Dynamically use the best learning rate found\n",
        "final_model.compile(optimizer=optimizer, loss='categorical_crossentropy', metrics=['accuracy'])"
      ],
      "metadata": {
        "id": "sq-bH4Eey74e"
      },
      "execution_count": null,
      "outputs": []
    },
    {
      "cell_type": "markdown",
      "source": [
        "### Training Configuration"
      ],
      "metadata": {
        "id": "JhZmmHVxy-ek"
      }
    },
    {
      "cell_type": "markdown",
      "source": [
        "Here I set training to 50 epochs and used early stopping based on validation loss to prevent overfitting, automatically restoring the model to its best state."
      ],
      "metadata": {
        "id": "0t3WJPF5V90E"
      }
    },
    {
      "cell_type": "code",
      "source": [
        "epochs = 50 # Increased epochs to get a more optimal solution\n",
        "early_stopping = EarlyStopping(monitor='val_loss', patience=5, restore_best_weights=True)"
      ],
      "metadata": {
        "id": "BT-k_bfHzF82"
      },
      "execution_count": null,
      "outputs": []
    },
    {
      "cell_type": "markdown",
      "source": [
        "### Training the Final Model"
      ],
      "metadata": {
        "id": "06pJ9jRHzIrt"
      }
    },
    {
      "cell_type": "markdown",
      "source": [
        "Here the final model is trained with all the best pararmeters found in the above steps"
      ],
      "metadata": {
        "id": "KHl5ffmYXLIi"
      }
    },
    {
      "cell_type": "code",
      "source": [
        "history = final_model.fit(X_train_reshaped, y_train_encoded, epochs=epochs,\n",
        "                          batch_size=best_params['batch_size'],\n",
        "                          validation_data=(X_val_reshaped, y_val_encoded),\n",
        "                          verbose=1, callbacks=[early_stopping])"
      ],
      "metadata": {
        "id": "uNlMfeaazOJg",
        "colab": {
          "base_uri": "https://localhost:8080/"
        },
        "outputId": "0493530c-b99a-4c3c-c706-71f40330ac57"
      },
      "execution_count": null,
      "outputs": [
        {
          "output_type": "stream",
          "name": "stdout",
          "text": [
            "Epoch 1/50\n",
            "432/432 [==============================] - 10s 20ms/step - loss: 1.0738 - accuracy: 0.4281 - val_loss: 1.0030 - val_accuracy: 0.4571\n",
            "Epoch 2/50\n",
            "432/432 [==============================] - 8s 19ms/step - loss: 0.9819 - accuracy: 0.4618 - val_loss: 0.9890 - val_accuracy: 0.4672\n",
            "Epoch 3/50\n",
            "432/432 [==============================] - 7s 17ms/step - loss: 0.9801 - accuracy: 0.4727 - val_loss: 0.9879 - val_accuracy: 0.4530\n",
            "Epoch 4/50\n",
            "432/432 [==============================] - 8s 19ms/step - loss: 0.9828 - accuracy: 0.4637 - val_loss: 1.0060 - val_accuracy: 0.4594\n",
            "Epoch 5/50\n",
            "432/432 [==============================] - 8s 19ms/step - loss: 0.9746 - accuracy: 0.5095 - val_loss: 0.9735 - val_accuracy: 0.5446\n",
            "Epoch 6/50\n",
            "432/432 [==============================] - 8s 17ms/step - loss: 0.9955 - accuracy: 0.5082 - val_loss: 1.0317 - val_accuracy: 0.4926\n",
            "Epoch 7/50\n",
            "432/432 [==============================] - 9s 21ms/step - loss: 1.0183 - accuracy: 0.4988 - val_loss: 1.0045 - val_accuracy: 0.5118\n",
            "Epoch 8/50\n",
            "432/432 [==============================] - 9s 20ms/step - loss: 1.0022 - accuracy: 0.5077 - val_loss: 0.9666 - val_accuracy: 0.5436\n",
            "Epoch 9/50\n",
            "432/432 [==============================] - 8s 18ms/step - loss: 0.8989 - accuracy: 0.5712 - val_loss: 0.7777 - val_accuracy: 0.6430\n",
            "Epoch 10/50\n",
            "432/432 [==============================] - 8s 19ms/step - loss: 0.7982 - accuracy: 0.6394 - val_loss: 0.7561 - val_accuracy: 0.6447\n",
            "Epoch 11/50\n",
            "432/432 [==============================] - 8s 19ms/step - loss: 0.7768 - accuracy: 0.6484 - val_loss: 0.7346 - val_accuracy: 0.6751\n",
            "Epoch 12/50\n",
            "432/432 [==============================] - 8s 18ms/step - loss: 0.7694 - accuracy: 0.6546 - val_loss: 0.7341 - val_accuracy: 0.6697\n",
            "Epoch 13/50\n",
            "432/432 [==============================] - 9s 21ms/step - loss: 0.7610 - accuracy: 0.6562 - val_loss: 0.7454 - val_accuracy: 0.6761\n",
            "Epoch 14/50\n",
            "432/432 [==============================] - 9s 21ms/step - loss: 0.7521 - accuracy: 0.6608 - val_loss: 0.7369 - val_accuracy: 0.6650\n",
            "Epoch 15/50\n",
            "432/432 [==============================] - 8s 18ms/step - loss: 0.7466 - accuracy: 0.6604 - val_loss: 0.7106 - val_accuracy: 0.6724\n",
            "Epoch 16/50\n",
            "432/432 [==============================] - 8s 20ms/step - loss: 0.7400 - accuracy: 0.6615 - val_loss: 0.7138 - val_accuracy: 0.6856\n",
            "Epoch 17/50\n",
            "432/432 [==============================] - 8s 19ms/step - loss: 0.7259 - accuracy: 0.6631 - val_loss: 0.6869 - val_accuracy: 0.6728\n",
            "Epoch 18/50\n",
            "432/432 [==============================] - 8s 18ms/step - loss: 0.7196 - accuracy: 0.6677 - val_loss: 0.6928 - val_accuracy: 0.6751\n",
            "Epoch 19/50\n",
            "432/432 [==============================] - 8s 19ms/step - loss: 0.7138 - accuracy: 0.6747 - val_loss: 0.6816 - val_accuracy: 0.6819\n",
            "Epoch 20/50\n",
            "432/432 [==============================] - 9s 20ms/step - loss: 0.7017 - accuracy: 0.6771 - val_loss: 0.6726 - val_accuracy: 0.6765\n",
            "Epoch 21/50\n",
            "432/432 [==============================] - 8s 18ms/step - loss: 0.7022 - accuracy: 0.6805 - val_loss: 0.6547 - val_accuracy: 0.6900\n",
            "Epoch 22/50\n",
            "432/432 [==============================] - 9s 20ms/step - loss: 0.6913 - accuracy: 0.6794 - val_loss: 0.6489 - val_accuracy: 0.6947\n",
            "Epoch 23/50\n",
            "432/432 [==============================] - 9s 20ms/step - loss: 0.6817 - accuracy: 0.6877 - val_loss: 0.6580 - val_accuracy: 0.6859\n",
            "Epoch 24/50\n",
            "432/432 [==============================] - 8s 19ms/step - loss: 0.6673 - accuracy: 0.6915 - val_loss: 0.6269 - val_accuracy: 0.7039\n",
            "Epoch 25/50\n",
            "432/432 [==============================] - 9s 20ms/step - loss: 0.6574 - accuracy: 0.6947 - val_loss: 0.6571 - val_accuracy: 0.6907\n",
            "Epoch 26/50\n",
            "432/432 [==============================] - 8s 19ms/step - loss: 0.7061 - accuracy: 0.6724 - val_loss: 0.6927 - val_accuracy: 0.6799\n",
            "Epoch 27/50\n",
            "432/432 [==============================] - 8s 19ms/step - loss: 0.6948 - accuracy: 0.6811 - val_loss: 0.7079 - val_accuracy: 0.6826\n",
            "Epoch 28/50\n",
            "432/432 [==============================] - 8s 19ms/step - loss: 0.6660 - accuracy: 0.6920 - val_loss: 0.6300 - val_accuracy: 0.7089\n",
            "Epoch 29/50\n",
            "432/432 [==============================] - 8s 19ms/step - loss: 0.6443 - accuracy: 0.7065 - val_loss: 0.6298 - val_accuracy: 0.7140\n"
          ]
        }
      ]
    },
    {
      "cell_type": "markdown",
      "source": [
        "### Final Training Report"
      ],
      "metadata": {
        "id": "JOZBwL8RzUXD"
      }
    },
    {
      "cell_type": "code",
      "source": [
        "print(f\"Best Validation Accuracy achieved: {max(history.history['val_accuracy'])}\")"
      ],
      "metadata": {
        "id": "26adORC9zZhr",
        "colab": {
          "base_uri": "https://localhost:8080/"
        },
        "outputId": "f1e5a603-0623-402a-dbe4-304ebd636b86"
      },
      "execution_count": null,
      "outputs": [
        {
          "output_type": "stream",
          "name": "stdout",
          "text": [
            "Best Validation Accuracy achieved: 0.7139959335327148\n"
          ]
        }
      ]
    },
    {
      "cell_type": "markdown",
      "source": [
        "## Model Evaluation and Performance Analysis - answer to **Question 6** of the written exam"
      ],
      "metadata": {
        "id": "q1aoiH8Y4Poz"
      }
    },
    {
      "cell_type": "markdown",
      "source": [
        "### Training and Validation Accuracy over Epochs"
      ],
      "metadata": {
        "id": "9USTvxys4b0Y"
      }
    },
    {
      "cell_type": "markdown",
      "source": [
        "Here is a graph in which we can see the trend of the validation accuracy over the epochs"
      ],
      "metadata": {
        "id": "7bJbt-PJYRPo"
      }
    },
    {
      "cell_type": "code",
      "source": [
        "# Plot training & validation accuracy values\n",
        "plt.plot(history.history['accuracy'])\n",
        "plt.plot(history.history['val_accuracy'])\n",
        "plt.title('Model accuracy')\n",
        "plt.ylabel('Accuracy')\n",
        "plt.xlabel('Epoch')\n",
        "plt.legend(['Train', 'Validation'], loc='upper left')\n",
        "plt.show()"
      ],
      "metadata": {
        "id": "IAlFMbLu4hsD",
        "colab": {
          "base_uri": "https://localhost:8080/",
          "height": 472
        },
        "outputId": "d19adf79-fb5e-4f22-c28c-31e96202574d"
      },
      "execution_count": null,
      "outputs": [
        {
          "output_type": "display_data",
          "data": {
            "text/plain": [
              "<Figure size 640x480 with 1 Axes>"
            ],
            "image/png": "[encoded data removed]"
          },
          "metadata": {}
        }
      ]
    },
    {
      "cell_type": "markdown",
      "source": [
        "### Training and Validation Loss over Epochs"
      ],
      "metadata": {
        "id": "uEbMl0aC4idu"
      }
    },
    {
      "cell_type": "markdown",
      "source": [
        "Here is a graph in which we can see the trend of the validation loss over the epochs"
      ],
      "metadata": {
        "id": "6mxjJhMRZn2B"
      }
    },
    {
      "cell_type": "code",
      "source": [
        "# Plot training & validation loss values\n",
        "plt.plot(history.history['loss'])\n",
        "plt.plot(history.history['val_loss'])\n",
        "plt.title('Model loss')\n",
        "plt.ylabel('Loss')\n",
        "plt.xlabel('Epoch')\n",
        "plt.legend(['Train', 'Validation'], loc='upper left')\n",
        "plt.show()"
      ],
      "metadata": {
        "id": "-8dc3peN4izX",
        "colab": {
          "base_uri": "https://localhost:8080/",
          "height": 472
        },
        "outputId": "c96b0fd5-2a81-427e-bf9f-713f4391f58b"
      },
      "execution_count": null,
      "outputs": [
        {
          "output_type": "display_data",
          "data": {
            "text/plain": [
              "<Figure size 640x480 with 1 Axes>"
            ],
            "image/png": "[encoded data removed]"
          },
          "metadata": {}
        }
      ]
    },
    {
      "cell_type": "markdown",
      "source": [
        "### Generating Model Predictions for Validation Data"
      ],
      "metadata": {
        "id": "EYbti1ru5A4F"
      }
    },
    {
      "cell_type": "markdown",
      "source": [
        "\n",
        "This code generates predictions using the trained Keras model (final_model) on the validation dataset (X_val_reshaped)."
      ],
      "metadata": {
        "id": "BtLmQ1jdZw44"
      }
    },
    {
      "cell_type": "code",
      "source": [
        "# Generate predictions\n",
        "predictions = final_model.predict(X_val_reshaped)\n",
        "predicted_classes = np.argmax(predictions, axis=1)"
      ],
      "metadata": {
        "id": "S7uYS3AC5BOB",
        "colab": {
          "base_uri": "https://localhost:8080/"
        },
        "outputId": "c903c8a6-ce03-4b8e-e5cf-af10c7b61a1b"
      },
      "execution_count": null,
      "outputs": [
        {
          "output_type": "stream",
          "name": "stdout",
          "text": [
            "93/93 [==============================] - 1s 9ms/step\n"
          ]
        }
      ]
    },
    {
      "cell_type": "markdown",
      "source": [
        "### Confusion Matrix Analysis"
      ],
      "metadata": {
        "id": "84dKdJvr5B0P"
      }
    },
    {
      "cell_type": "markdown",
      "source": [
        "This code computes and plots the confusion matrix based on the true class labels (true_classes) and the predicted class labels (predicted_classes).\n",
        "True Positives (TP): The diagonal elements represent the number of correctly predicted samples for each class.\n",
        "False Positives (FP): Off-diagonal elements in a row indicate the number of samples that were incorrectly predicted as belonging to that class.\n",
        "False Negatives (FN): Off-diagonal elements in a column represent the number of samples that actually belong to that class but were incorrectly predicted as belonging to another class.\n",
        "True Negatives (TN): Elements outside the current class row and column indicate the number of correctly predicted samples that do not belong to that class."
      ],
      "metadata": {
        "id": "tgV2dqR9Z7u8"
      }
    },
    {
      "cell_type": "code",
      "source": [
        "# Convert one-hot encoded y_val_encoded back to class labels\n",
        "true_classes = np.argmax(y_val_encoded, axis=1)\n",
        "\n",
        "# Compute the confusion matrix\n",
        "cm = confusion_matrix(true_classes, predicted_classes)\n",
        "\n",
        "# Plot the confusion matrix\n",
        "plt.figure(figsize=(10, 7))\n",
        "sns.heatmap(cm, annot=True, fmt=\"d\", cmap=\"Blues\", xticklabels=[\"Class 1\", \"Class 2\", \"Class 3\"], yticklabels=[\"Class 1\", \"Class 2\", \"Class 3\"])\n",
        "plt.title('Confusion Matrix')\n",
        "plt.xlabel('Predicted Labels')\n",
        "plt.ylabel('True Labels')\n",
        "plt.show()"
      ],
      "metadata": {
        "id": "WzW3Q1G45CHP",
        "colab": {
          "base_uri": "https://localhost:8080/",
          "height": 641
        },
        "outputId": "82e45212-c81e-4869-b693-77e362b8b91f"
      },
      "execution_count": null,
      "outputs": [
        {
          "output_type": "display_data",
          "data": {
            "text/plain": [
              "<Figure size 1000x700 with 2 Axes>"
            ],
            "image/png": "[encoded data removed]"
          },
          "metadata": {}
        }
      ]
    },
    {
      "cell_type": "markdown",
      "source": [
        "### Computing F1 Score for Model Evaluation"
      ],
      "metadata": {
        "id": "MgW50rCX7vjx"
      }
    },
    {
      "cell_type": "markdown",
      "source": [
        "This code calculates the F1 score, a measure of a model's accuracy, based on the predicted class labels (predicted_classes) and the true class labels (true_classes).\n",
        "I used the F1 score in addition to accuracy because it provides a more comprehensive evaluation of the model's performance."
      ],
      "metadata": {
        "id": "TjziTtRtaPBE"
      }
    },
    {
      "cell_type": "code",
      "source": [
        "# Convert probabilities to class labels\n",
        "predicted_classes = np.argmax(predictions, axis=1)\n",
        "\n",
        "# true_classes are the true labels encoded as integers\n",
        "f1 = f1_score(true_classes, predicted_classes, average='weighted')  # 'weighted' accounts for label imbalance\n",
        "print(f\"F1 Score: {f1}\")"
      ],
      "metadata": {
        "id": "KneefYT37wA7",
        "colab": {
          "base_uri": "https://localhost:8080/"
        },
        "outputId": "1b585309-24b9-43de-d21f-737157ae05b8"
      },
      "execution_count": null,
      "outputs": [
        {
          "output_type": "stream",
          "name": "stdout",
          "text": [
            "F1 Score: 0.7014220619647173\n"
          ]
        }
      ]
    }
  ]
}